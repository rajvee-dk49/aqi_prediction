{
 "cells": [
  {
   "cell_type": "code",
   "execution_count": 2,
   "metadata": {},
   "outputs": [],
   "source": [
    "# Import libraries\n",
    "import numpy as np\n",
    "import matplotlib.pyplot as plt\n",
    "import matplotlib.image as mpimg\n",
    "import pandas as pd"
   ]
  },
  {
   "cell_type": "code",
   "execution_count": 3,
   "metadata": {},
   "outputs": [
    {
     "data": {
      "text/html": [
       "<div>\n",
       "<style scoped>\n",
       "    .dataframe tbody tr th:only-of-type {\n",
       "        vertical-align: middle;\n",
       "    }\n",
       "\n",
       "    .dataframe tbody tr th {\n",
       "        vertical-align: top;\n",
       "    }\n",
       "\n",
       "    .dataframe thead th {\n",
       "        text-align: right;\n",
       "    }\n",
       "</style>\n",
       "<table border=\"1\" class=\"dataframe\">\n",
       "  <thead>\n",
       "    <tr style=\"text-align: right;\">\n",
       "      <th></th>\n",
       "      <th>From Date</th>\n",
       "      <th>Dummy</th>\n",
       "      <th>CO</th>\n",
       "      <th>NO2</th>\n",
       "      <th>Ozone</th>\n",
       "      <th>PM10</th>\n",
       "      <th>PM2.5</th>\n",
       "      <th>SO2</th>\n",
       "      <th>AQI</th>\n",
       "    </tr>\n",
       "  </thead>\n",
       "  <tbody>\n",
       "    <tr>\n",
       "      <th>0</th>\n",
       "      <td>2015-03-04</td>\n",
       "      <td>1</td>\n",
       "      <td>0.43</td>\n",
       "      <td>29.94</td>\n",
       "      <td>67.24</td>\n",
       "      <td>54.84</td>\n",
       "      <td>41.79</td>\n",
       "      <td>12.84</td>\n",
       "      <td>67.24</td>\n",
       "    </tr>\n",
       "    <tr>\n",
       "      <th>1</th>\n",
       "      <td>2015-04-04</td>\n",
       "      <td>1</td>\n",
       "      <td>6.17</td>\n",
       "      <td>54.56</td>\n",
       "      <td>23.91</td>\n",
       "      <td>112.65</td>\n",
       "      <td>71.03</td>\n",
       "      <td>21.14</td>\n",
       "      <td>112.65</td>\n",
       "    </tr>\n",
       "    <tr>\n",
       "      <th>2</th>\n",
       "      <td>2015-08-04</td>\n",
       "      <td>1</td>\n",
       "      <td>0.30</td>\n",
       "      <td>16.40</td>\n",
       "      <td>147.99</td>\n",
       "      <td>167.52</td>\n",
       "      <td>25.21</td>\n",
       "      <td>13.01</td>\n",
       "      <td>167.52</td>\n",
       "    </tr>\n",
       "    <tr>\n",
       "      <th>3</th>\n",
       "      <td>2015-09-04</td>\n",
       "      <td>1</td>\n",
       "      <td>2.03</td>\n",
       "      <td>62.37</td>\n",
       "      <td>67.27</td>\n",
       "      <td>196.20</td>\n",
       "      <td>91.29</td>\n",
       "      <td>16.76</td>\n",
       "      <td>196.20</td>\n",
       "    </tr>\n",
       "    <tr>\n",
       "      <th>4</th>\n",
       "      <td>2015-10-04</td>\n",
       "      <td>1</td>\n",
       "      <td>3.97</td>\n",
       "      <td>66.83</td>\n",
       "      <td>66.53</td>\n",
       "      <td>239.60</td>\n",
       "      <td>121.09</td>\n",
       "      <td>18.96</td>\n",
       "      <td>239.60</td>\n",
       "    </tr>\n",
       "  </tbody>\n",
       "</table>\n",
       "</div>"
      ],
      "text/plain": [
       "    From Date  Dummy    CO    NO2   Ozone    PM10   PM2.5    SO2     AQI\n",
       "0  2015-03-04      1  0.43  29.94   67.24   54.84   41.79  12.84   67.24\n",
       "1  2015-04-04      1  6.17  54.56   23.91  112.65   71.03  21.14  112.65\n",
       "2  2015-08-04      1  0.30  16.40  147.99  167.52   25.21  13.01  167.52\n",
       "3  2015-09-04      1  2.03  62.37   67.27  196.20   91.29  16.76  196.20\n",
       "4  2015-10-04      1  3.97  66.83   66.53  239.60  121.09  18.96  239.60"
      ]
     },
     "execution_count": 3,
     "metadata": {},
     "output_type": "execute_result"
    }
   ],
   "source": [
    "#loading the dataset\n",
    "df = pd.read_csv(\"Aqi_dataset.csv\", low_memory=False)   \n",
    "df.head()"
   ]
  },
  {
   "cell_type": "code",
   "execution_count": 4,
   "metadata": {},
   "outputs": [],
   "source": [
    "df['From Date'] = pd.to_datetime(df['From Date'])\n",
    "df.set_index('From Date', inplace=True)"
   ]
  },
  {
   "cell_type": "code",
   "execution_count": 5,
   "metadata": {},
   "outputs": [
    {
     "name": "stdout",
     "output_type": "stream",
     "text": [
      "[ 67.24 112.65 167.52 ...  62.12  63.34  74.79]\n",
      "<class 'numpy.ndarray'>\n"
     ]
    }
   ],
   "source": [
    "aqi=df.AQI\n",
    "aqi=aqi.to_numpy()\n",
    "print(aqi)\n",
    "print(type(aqi))"
   ]
  },
  {
   "cell_type": "code",
   "execution_count": 6,
   "metadata": {},
   "outputs": [
    {
     "name": "stdout",
     "output_type": "stream",
     "text": [
      "1539\n"
     ]
    }
   ],
   "source": [
    "i=0\n",
    "length=aqi.size\n",
    "print(length)\n",
    "tag=[]\n",
    "\n",
    "while i < length:\n",
    "    if aqi[i] >= 301:\n",
    "        tag.append(\"Hazardous\") \n",
    "    elif aqi[i] >= 201:\n",
    "        tag.append(\"Very Unhealthy\") \n",
    "    elif aqi[i] >= 151:\n",
    "        tag.append(\"Unhealthy\")\n",
    "    elif aqi[i] >= 101:\n",
    "        tag.append(\"Unhealthy for sensitive groups\")\n",
    "    elif aqi[i] >= 51:\n",
    "        tag.append(\"Moderate\")\n",
    "    else:\n",
    "        tag.append(\"Good\")\n",
    "    i=i+1"
   ]
  },
  {
   "cell_type": "code",
   "execution_count": 7,
   "metadata": {},
   "outputs": [],
   "source": [
    "df.insert(8,'level',tag)"
   ]
  },
  {
   "cell_type": "code",
   "execution_count": 8,
   "metadata": {},
   "outputs": [],
   "source": [
    "df.head(5)\n",
    "new_df =df\n",
    "new_df.to_csv('aqi_levels.csv')"
   ]
  },
  {
   "cell_type": "code",
   "execution_count": 9,
   "metadata": {},
   "outputs": [],
   "source": [
    "Y=new_df.level\n",
    "x = new_df.drop([\"AQI\", \"level\",\"Dummy\"], axis=1)\n",
    "#xtemp=new_clt_climate_df.drop('AQI',axis=1)\n"
   ]
  },
  {
   "cell_type": "code",
   "execution_count": 10,
   "metadata": {},
   "outputs": [],
   "source": [
    "#print(x)\n",
    "index = int(0.8 * len(x))\n",
    "X_train, X_test = x[:index], x[index:]\n",
    "y_train, y_test = Y[:index], Y[index:]\n",
    "index\n",
    "results = {}\n"
   ]
  },
  {
   "cell_type": "markdown",
   "metadata": {},
   "source": [
    "## *1) SVM using linear kernel*"
   ]
  },
  {
   "cell_type": "code",
   "execution_count": 11,
   "metadata": {},
   "outputs": [
    {
     "name": "stdout",
     "output_type": "stream",
     "text": [
      "Accuracy: 0.948051948051948\n",
      "Report: \n",
      "                                precision    recall  f1-score   support\n",
      "\n",
      "                          Good       0.59      1.00      0.74        13\n",
      "                     Hazardous       1.00      1.00      1.00        53\n",
      "                      Moderate       0.95      0.87      0.91        68\n",
      "                     Unhealthy       0.94      0.98      0.96        52\n",
      "Unhealthy for sensitive groups       1.00      0.89      0.94        53\n",
      "                Very Unhealthy       0.99      1.00      0.99        69\n",
      "\n",
      "                      accuracy                           0.95       308\n",
      "                     macro avg       0.91      0.96      0.92       308\n",
      "                  weighted avg       0.96      0.95      0.95       308\n",
      "\n"
     ]
    }
   ],
   "source": [
    "from sklearn.svm import SVC\n",
    "svcclassifier = SVC(kernel='linear', random_state=1)\n",
    "svcclassifier.fit(X_train, y_train)\n",
    "y_pred_l = svcclassifier.predict(X_test)\n",
    "from sklearn.metrics import classification_report, accuracy_score,confusion_matrix\n",
    "print(\"Accuracy:\", accuracy_score(y_test, y_pred_l))\n",
    "import sklearn.metrics as metrics\n",
    "results['linear'] = accuracy_score(y_test, y_pred_l)\n",
    "accuracy_l= accuracy_score(y_test, y_pred_l)\n",
    "print(\"Report: \")\n",
    "print(classification_report(y_test, y_pred_l))\n",
    "#print(\"Matrix: \")\n",
    "#print(confusion_matrix(y_test, y_pred_l))\n",
    "#print(accuracy_l)"
   ]
  },
  {
   "cell_type": "code",
   "execution_count": 12,
   "metadata": {},
   "outputs": [
    {
     "data": {
      "text/plain": [
       "Text(0.5,1,'confusion matrix for linear')"
      ]
     },
     "execution_count": 12,
     "metadata": {},
     "output_type": "execute_result"
    },
    {
     "data": {
      "image/png": "[encoded data removed]",
      "text/plain": [
       "<Figure size 432x288 with 2 Axes>"
      ]
     },
     "metadata": {
      "needs_background": "light"
     },
     "output_type": "display_data"
    }
   ],
   "source": [
    "my_tags = [\"Good\", \"Hazardous\",\"Moderate\",\"Unhealthy\",\"Unhealthy for sensitive groups\",\"Very Unhealthy\"]\n",
    "#print confusion matrix\n",
    "import seaborn as sns\n",
    "import matplotlib.pyplot as plt     \n",
    "\n",
    "cm = confusion_matrix(y_test, y_pred_l, my_tags)\n",
    "ax= plt.subplot()\n",
    "#plt.xticks(rotation=90)\n",
    "#plt.yticks(rotation=0)\n",
    "#plt.ylabel('y',rotation=45)\n",
    "sns.heatmap(cm, annot=True, ax = ax); #annot=True to annotate cells\n",
    "\n",
    "# labels, title and ticks\n",
    "ax.set_xlabel('Predicted labels');\n",
    "ax.set_ylabel('True labels'); \n",
    "ax.set_title('Confusion Matrix'); \n",
    "ax.xaxis.set_ticklabels(my_tags,rotation=90);\n",
    "ax.yaxis.set_ticklabels(my_tags,rotation=0);\n",
    "ax.set_title('confusion matrix for linear')"
   ]
  },
  {
   "cell_type": "markdown",
   "metadata": {},
   "source": [
    "## *2) SVM using polynomial kernel*"
   ]
  },
  {
   "cell_type": "code",
   "execution_count": 12,
   "metadata": {},
   "outputs": [
    {
     "name": "stdout",
     "output_type": "stream",
     "text": [
      "Accuracy: 0.961038961038961\n",
      "Report: \n",
      "                                precision    recall  f1-score   support\n",
      "\n",
      "                          Good       0.62      1.00      0.76        13\n",
      "                     Hazardous       1.00      0.98      0.99        53\n",
      "                      Moderate       1.00      0.88      0.94        68\n",
      "                     Unhealthy       0.96      0.98      0.97        52\n",
      "Unhealthy for sensitive groups       1.00      0.96      0.98        53\n",
      "                Very Unhealthy       0.97      1.00      0.99        69\n",
      "\n",
      "                      accuracy                           0.96       308\n",
      "                     macro avg       0.93      0.97      0.94       308\n",
      "                  weighted avg       0.97      0.96      0.96       308\n",
      "\n"
     ]
    }
   ],
   "source": [
    "from sklearn.svm import SVC\n",
    "svcclassifier = SVC(kernel='poly', C=300, gamma=0.0001, random_state=1)\n",
    "svcclassifier.fit(X_train, y_train)\n",
    "y_pred_p = svcclassifier.predict(X_test)\n",
    "from sklearn.metrics import classification_report, accuracy_score,confusion_matrix\n",
    "print(\"Accuracy:\", accuracy_score(y_test, y_pred_p))\n",
    "results['poly'] = accuracy_score(y_test, y_pred_p)\n",
    "accuracy_p=accuracy_score(y_test, y_pred_p)\n",
    "print(\"Report: \")\n",
    "print(classification_report(y_test, y_pred_p))\n",
    "#print(\"Matrix: \")\n",
    "#print(confusion_matrix(y_test, y_pred_p))\n",
    "#print(accuracy_p)"
   ]
  },
  {
   "cell_type": "code",
   "execution_count": 13,
   "metadata": {},
   "outputs": [
    {
     "data": {
      "text/plain": [
       "Text(0.5,1,'confusion matrix for polynomial')"
      ]
     },
     "execution_count": 13,
     "metadata": {},
     "output_type": "execute_result"
    },
    {
     "data": {
      "image/png": "[encoded data removed]",
      "text/plain": [
       "<Figure size 432x288 with 2 Axes>"
      ]
     },
     "metadata": {
      "needs_background": "light"
     },
     "output_type": "display_data"
    }
   ],
   "source": [
    "my_tags = [\"Good\", \"Hazardous\",\"Moderate\",\"Unhealthy\",\"Unhealthy for sensitive groups\",\"Very Unhealthy\"]\n",
    "#print confusion matrix\n",
    "import seaborn as sns\n",
    "import matplotlib.pyplot as plt     \n",
    "\n",
    "cm = confusion_matrix(y_test, y_pred_p, my_tags)\n",
    "ax= plt.subplot()\n",
    "#plt.xticks(rotation=90)\n",
    "#plt.yticks(rotation=0)\n",
    "#plt.ylabel('y',rotation=45)\n",
    "sns.heatmap(cm, annot=True, ax = ax); #annot=True to annotate cells\n",
    "\n",
    "# labels, title and ticks\n",
    "ax.set_xlabel('Predicted labels');\n",
    "ax.set_ylabel('True labels'); \n",
    "ax.set_title('Confusion Matrix'); \n",
    "ax.xaxis.set_ticklabels(my_tags,rotation=90);\n",
    "ax.yaxis.set_ticklabels(my_tags,rotation=0);\n",
    "ax.set_title('confusion matrix for polynomial')"
   ]
  },
  {
   "cell_type": "markdown",
   "metadata": {},
   "source": [
    "## 3)SVM using RBF(Gaussian) kernel"
   ]
  },
  {
   "cell_type": "code",
   "execution_count": 14,
   "metadata": {
    "scrolled": true
   },
   "outputs": [
    {
     "name": "stdout",
     "output_type": "stream",
     "text": [
      "Accuracy: 0.9545454545454546\n",
      "Report: \n",
      "                                precision    recall  f1-score   support\n",
      "\n",
      "                          Good       0.59      1.00      0.74        13\n",
      "                     Hazardous       1.00      1.00      1.00        53\n",
      "                      Moderate       1.00      0.87      0.93        68\n",
      "                     Unhealthy       0.93      0.98      0.95        52\n",
      "Unhealthy for sensitive groups       1.00      0.92      0.96        53\n",
      "                Very Unhealthy       0.99      1.00      0.99        69\n",
      "\n",
      "                      accuracy                           0.95       308\n",
      "                     macro avg       0.92      0.96      0.93       308\n",
      "                  weighted avg       0.97      0.95      0.96       308\n",
      "\n",
      "Matrix: \n",
      "[[13  0  0  0  0  0]\n",
      " [ 0 53  0  0  0  0]\n",
      " [ 9  0 59  0  0  0]\n",
      " [ 0  0  0 51  0  1]\n",
      " [ 0  0  0  4 49  0]\n",
      " [ 0  0  0  0  0 69]]\n"
     ]
    }
   ],
   "source": [
    "from sklearn.svm import SVC\n",
    "svcclassifier = SVC(kernel='rbf', C=50, gamma=0.0001, random_state=1)\n",
    "svcclassifier.fit(X_train, y_train)\n",
    "y_pred_rbf = svcclassifier.predict(X_test)\n",
    "from sklearn.metrics import classification_report, accuracy_score,confusion_matrix\n",
    "print(\"Accuracy:\", accuracy_score(y_test, y_pred_rbf))\n",
    "results['rbf'] = accuracy_score(y_test, y_pred_rbf)\n",
    "accuracy_rbf=accuracy_score(y_test, y_pred_rbf)\n",
    "print(\"Report: \")\n",
    "print(classification_report(y_test, y_pred_rbf))\n",
    "print(\"Matrix: \")\n",
    "print(confusion_matrix(y_test, y_pred_rbf))"
   ]
  },
  {
   "cell_type": "code",
   "execution_count": 15,
   "metadata": {},
   "outputs": [
    {
     "data": {
      "text/plain": [
       "Text(0.5,1,'confusion matrix for rbf')"
      ]
     },
     "execution_count": 15,
     "metadata": {},
     "output_type": "execute_result"
    },
    {
     "data": {
      "image/png": "[encoded data removed]",
      "text/plain": [
       "<Figure size 432x288 with 2 Axes>"
      ]
     },
     "metadata": {
      "needs_background": "light"
     },
     "output_type": "display_data"
    }
   ],
   "source": [
    "my_tags = [\"Good\", \"Hazardous\",\"Moderate\",\"Unhealthy\",\"Unhealthy for sensitive groups\",\"Very Unhealthy\"]\n",
    "#print confusion matrix\n",
    "import seaborn as sns\n",
    "import matplotlib.pyplot as plt     \n",
    "\n",
    "cm = confusion_matrix(y_test, y_pred_rbf, my_tags)\n",
    "ax= plt.subplot()\n",
    "#plt.xticks(rotation=90)\n",
    "#plt.yticks(rotation=0)\n",
    "#plt.ylabel('y',rotation=45)\n",
    "sns.heatmap(cm, annot=True, ax = ax); #annot=True to annotate cells\n",
    "\n",
    "# labels, title and ticks\n",
    "ax.set_xlabel('Predicted labels');\n",
    "ax.set_ylabel('True labels'); \n",
    "ax.set_title('Confusion Matrix'); \n",
    "ax.xaxis.set_ticklabels(my_tags,rotation=90);\n",
    "ax.yaxis.set_ticklabels(my_tags,rotation=0);\n",
    "ax.set_title('confusion matrix for rbf')"
   ]
  },
  {
   "cell_type": "code",
   "execution_count": 16,
   "metadata": {},
   "outputs": [
    {
     "data": {
      "image/png": "[encoded data removed]",
      "text/plain": [
       "<Figure size 432x288 with 1 Axes>"
      ]
     },
     "metadata": {
      "needs_background": "light"
     },
     "output_type": "display_data"
    }
   ],
   "source": [
    "fig = plt.figure()\n",
    "ax = fig.add_axes([0,0,1,1])\n",
    "plt.xticks(rotation=90)\n",
    "langs = ['linear', 'polynomial','rbf']\n",
    "accuracy=[accuracy_l*100,accuracy_p*100,accuracy_rbf*100]\n",
    "plt.xlabel(\"$kernels$\")\n",
    "plt.ylabel(\"$accuracy$\");\n",
    "ax.bar(langs,accuracy)\n",
    "plt.show()\n"
   ]
  },
  {
   "cell_type": "code",
   "execution_count": 17,
   "metadata": {},
   "outputs": [
    {
     "name": "stdout",
     "output_type": "stream",
     "text": [
      "{'linear': 0.948051948051948, 'poly': 0.961038961038961, 'rbf': 0.9545454545454546}\n"
     ]
    }
   ],
   "source": [
    "print(results)"
   ]
  },
  {
   "cell_type": "code",
   "execution_count": null,
   "metadata": {},
   "outputs": [],
   "source": []
  }
 ],
 "metadata": {
  "kernelspec": {
   "display_name": "Python 3",
   "language": "python",
   "name": "python3"
  },
  "language_info": {
   "codemirror_mode": {
    "name": "ipython",
    "version": 3
   },
   "file_extension": ".py",
   "mimetype": "text/x-python",
   "name": "python",
   "nbconvert_exporter": "python",
   "pygments_lexer": "ipython3",
   "version": "3.7.3"
  }
 },
 "nbformat": 4,
 "nbformat_minor": 2
}
