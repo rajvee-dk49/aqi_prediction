{
 "cells": [
  {
   "cell_type": "code",
   "execution_count": 1,
   "metadata": {},
   "outputs": [],
   "source": [
    "import pandas as pd\n",
    "import numpy as np\n",
    "import datetime\n",
    "import matplotlib\n",
    "import matplotlib.pyplot as plt"
   ]
  },
  {
   "cell_type": "code",
   "execution_count": 2,
   "metadata": {},
   "outputs": [],
   "source": [
    "#loading the dataset\n",
    "clt_climate_df = pd.read_csv(\"Aqi_dataset.csv\", low_memory=False)   \n",
    "clt_climate_df.head()\n",
    "y=clt_climate_df.AQI"
   ]
  },
  {
   "cell_type": "code",
   "execution_count": 3,
   "metadata": {},
   "outputs": [],
   "source": [
    "#Dropping Dummy and AQI feature from dataset\n",
    "clt_climate_df = clt_climate_df.drop(['Dummy','AQI'],axis=1)"
   ]
  },
  {
   "cell_type": "code",
   "execution_count": 4,
   "metadata": {},
   "outputs": [
    {
     "data": {
      "text/html": [
       "<div>\n",
       "<style scoped>\n",
       "    .dataframe tbody tr th:only-of-type {\n",
       "        vertical-align: middle;\n",
       "    }\n",
       "\n",
       "    .dataframe tbody tr th {\n",
       "        vertical-align: top;\n",
       "    }\n",
       "\n",
       "    .dataframe thead th {\n",
       "        text-align: right;\n",
       "    }\n",
       "</style>\n",
       "<table border=\"1\" class=\"dataframe\">\n",
       "  <thead>\n",
       "    <tr style=\"text-align: right;\">\n",
       "      <th></th>\n",
       "      <th>CO</th>\n",
       "      <th>NO2</th>\n",
       "      <th>Ozone</th>\n",
       "      <th>PM10</th>\n",
       "      <th>PM2.5</th>\n",
       "      <th>SO2</th>\n",
       "    </tr>\n",
       "    <tr>\n",
       "      <th>From Date</th>\n",
       "      <th></th>\n",
       "      <th></th>\n",
       "      <th></th>\n",
       "      <th></th>\n",
       "      <th></th>\n",
       "      <th></th>\n",
       "    </tr>\n",
       "  </thead>\n",
       "  <tbody>\n",
       "    <tr>\n",
       "      <th>2015-03-04</th>\n",
       "      <td>0.43</td>\n",
       "      <td>29.94</td>\n",
       "      <td>67.24</td>\n",
       "      <td>54.84</td>\n",
       "      <td>41.79</td>\n",
       "      <td>12.84</td>\n",
       "    </tr>\n",
       "    <tr>\n",
       "      <th>2015-04-04</th>\n",
       "      <td>6.17</td>\n",
       "      <td>54.56</td>\n",
       "      <td>23.91</td>\n",
       "      <td>112.65</td>\n",
       "      <td>71.03</td>\n",
       "      <td>21.14</td>\n",
       "    </tr>\n",
       "    <tr>\n",
       "      <th>2015-08-04</th>\n",
       "      <td>0.30</td>\n",
       "      <td>16.40</td>\n",
       "      <td>147.99</td>\n",
       "      <td>167.52</td>\n",
       "      <td>25.21</td>\n",
       "      <td>13.01</td>\n",
       "    </tr>\n",
       "    <tr>\n",
       "      <th>2015-09-04</th>\n",
       "      <td>2.03</td>\n",
       "      <td>62.37</td>\n",
       "      <td>67.27</td>\n",
       "      <td>196.20</td>\n",
       "      <td>91.29</td>\n",
       "      <td>16.76</td>\n",
       "    </tr>\n",
       "    <tr>\n",
       "      <th>2015-10-04</th>\n",
       "      <td>3.97</td>\n",
       "      <td>66.83</td>\n",
       "      <td>66.53</td>\n",
       "      <td>239.60</td>\n",
       "      <td>121.09</td>\n",
       "      <td>18.96</td>\n",
       "    </tr>\n",
       "  </tbody>\n",
       "</table>\n",
       "</div>"
      ],
      "text/plain": [
       "              CO    NO2   Ozone    PM10   PM2.5    SO2\n",
       "From Date                                             \n",
       "2015-03-04  0.43  29.94   67.24   54.84   41.79  12.84\n",
       "2015-04-04  6.17  54.56   23.91  112.65   71.03  21.14\n",
       "2015-08-04  0.30  16.40  147.99  167.52   25.21  13.01\n",
       "2015-09-04  2.03  62.37   67.27  196.20   91.29  16.76\n",
       "2015-10-04  3.97  66.83   66.53  239.60  121.09  18.96"
      ]
     },
     "execution_count": 4,
     "metadata": {},
     "output_type": "execute_result"
    }
   ],
   "source": [
    "#index is date\n",
    "clt_climate_df['From Date'] = pd.to_datetime(clt_climate_df['From Date'])\n",
    "clt_climate_df.set_index('From Date', inplace=True)\n",
    "clt_climate_df.index = clt_climate_df.index.normalize()\n",
    "clt_climate_df.head()"
   ]
  },
  {
   "cell_type": "code",
   "execution_count": 5,
   "metadata": {},
   "outputs": [
    {
     "data": {
      "text/plain": [
       "(1539, 6)"
      ]
     },
     "execution_count": 5,
     "metadata": {},
     "output_type": "execute_result"
    }
   ],
   "source": [
    "#Convert dataframe to ndarray\n",
    "X = clt_climate_df.values\n",
    "X.shape\n"
   ]
  },
  {
   "cell_type": "code",
   "execution_count": 6,
   "metadata": {},
   "outputs": [],
   "source": [
    "#Normalization Function\n",
    "def normalize(X):\n",
    "    \"\"\"Normalize the given dataset X\n",
    " Args:\n",
    " X: ndarray, dataset\n",
    "\n",
    " Returns:\n",
    " (Xbar, mean, std): tuple of ndarray, Xbar is the normalized dataset\n",
    " with mean 0 and standard deviation 1; mean and std are the\n",
    " mean and standard deviation respectively.\n",
    "\n",
    " Note:\n",
    " You will encounter dimensions where the standard deviation is\n",
    " zero, for those when you do normalization the normalized data\n",
    " will be NaN. Handle this by setting using `std = 1` for those\n",
    " dimensions when doing normalization.\n",
    " \"\"\"\n",
    "    mu = np.mean(X, axis=0)\n",
    "    std = np.std(X, axis=0)\n",
    "    std_filled = std.copy()\n",
    "    std_filled[std==0] = 1\n",
    "    Xbar = (X-mu)/std_filled\n",
    "    \n",
    "    return Xbar, mu, std # Q4-Q6 are below\n"
   ]
  },
  {
   "cell_type": "code",
   "execution_count": 7,
   "metadata": {},
   "outputs": [],
   "source": [
    "#Normalizing dataset\n",
    "Xbar, mu, std = normalize(X)"
   ]
  },
  {
   "cell_type": "code",
   "execution_count": 8,
   "metadata": {},
   "outputs": [
    {
     "name": "stdout",
     "output_type": "stream",
     "text": [
      "S= (6, 6)\n",
      "X= (1539, 6)\n",
      "normalised_X= (1539, 6)\n"
     ]
    }
   ],
   "source": [
    "#Covariance Matrix\n",
    "S = np.matmul(Xbar.T, Xbar)\n",
    "print('S=',S.shape)\n",
    "print('X=',X.shape)\n",
    "print('normalised_X=',Xbar.shape)"
   ]
  },
  {
   "cell_type": "code",
   "execution_count": 9,
   "metadata": {},
   "outputs": [],
   "source": [
    "#Function to find and sort eigen values and corresponding eigen vectors in descending order\n",
    "def eig(S):\n",
    "    eigvals, eigvecs = np.linalg.eig(S)\n",
    "    idx = eigvals.argsort()[::-1]   \n",
    "    eigvals = eigvals[idx]\n",
    "    eigvecs = eigvecs[:,idx]    \n",
    "    return (eigvals,eigvecs)"
   ]
  },
  {
   "cell_type": "code",
   "execution_count": 10,
   "metadata": {},
   "outputs": [],
   "source": [
    "#Function to find and sort eigen values and corresponding eigen vectors which are unsorted\n",
    "def eig_unsorted(S):\n",
    "    eigvals, eigvecs = np.linalg.eig(S)\n",
    "    return (eigvals,eigvecs)"
   ]
  },
  {
   "cell_type": "code",
   "execution_count": 11,
   "metadata": {},
   "outputs": [],
   "source": [
    "#Function to compute the projection matrix\n",
    "def projection_matrix(B):\n",
    "    \"\"\"Compute the projection matrix onto the space spanned by `B`\n",
    "    Args:\n",
    "    B: ndarray of dimension (D, M), the basis for the subspace\n",
    "     Returns:\n",
    "    P: the projection matrix\n",
    "    \"\"\"\n",
    "    P = np.matmul(B, B.T)\n",
    "    return P \n"
   ]
  },
  {
   "cell_type": "code",
   "execution_count": 12,
   "metadata": {},
   "outputs": [],
   "source": [
    "#Function to compute PCA and Reconstruct the original X\n",
    "def PCA(X, num_components):\n",
    "    \"\"\"\n",
    "     Args:\n",
    "     X: ndarray of size (N, D), where D is the dimension of the data,\n",
    "     and N is the number of datapoints\n",
    "     num_components: the number of principal components to use.\n",
    "     Returns:\n",
    "     X_reconstruct: ndarray of the reconstruction\n",
    "     of X from the first `num_components` principal components.\n",
    "     \"\"\"\n",
    "   \n",
    "    #Xbar, mu, std = normalize(X)\n",
    "    covariance = np.matmul(X.T,X)\n",
    "    S = covariance\n",
    "    eigvals, eigvecs = eig(S)\n",
    "    #eigvals, eigvecs = eig1(S)\n",
    "    sumEigen = eigvals[:num_components].sum()\n",
    "    B = np.stack(eigvecs[:,:num_components])\n",
    "    P = np.matmul(B,B.T)\n",
    "    X_reconstruct = np.matmul(P,X.T)\n",
    "    X_reconstruct = X_reconstruct.T\n",
    "    return X_reconstruct,sumEigen\n"
   ]
  },
  {
   "cell_type": "code",
   "execution_count": 13,
   "metadata": {},
   "outputs": [],
   "source": [
    "#Function to compute PCA and Reconstruct the original X\n",
    "def PCA_unsorted(X, num_components):\n",
    "    \"\"\"\n",
    "     Args:\n",
    "     X: ndarray of size (N, D), where D is the dimension of the data,\n",
    "     and N is the number of datapoints\n",
    "     num_components: the number of principal components to use.\n",
    "     Returns:\n",
    "     X_reconstruct: ndarray of the reconstruction\n",
    "     of X from the first `num_components` principal components.\n",
    "     \"\"\"\n",
    "   \n",
    "    #Xbar, mu, std = normalize(X)\n",
    "    covariance = np.matmul(X.T,X)\n",
    "    S = covariance\n",
    "    eigvals, eigvecs = eig_unsorted(S)\n",
    "    #eigvals, eigvecs = eig1(S)\n",
    "    sumEigen = eigvals[:num_components].sum()\n",
    "    B = np.stack(eigvecs[:,:num_components])\n",
    "    P = np.matmul(B,B.T)\n",
    "    X_reconstruct = np.matmul(P,X.T)\n",
    "    X_reconstruct = X_reconstruct.T\n",
    "    return X_reconstruct,sumEigen"
   ]
  },
  {
   "cell_type": "code",
   "execution_count": 14,
   "metadata": {},
   "outputs": [
    {
     "name": "stdout",
     "output_type": "stream",
     "text": [
      "eigen-value for sorted [4497.71707154 1758.90243436 1225.27113304  845.48710996  737.31073715\n",
      "  169.31151396]\n",
      "eigen-value for unsorted [4497.71707154 1758.90243436 1225.27113304  737.31073715  845.48710996\n",
      "  169.31151396]\n"
     ]
    }
   ],
   "source": [
    "#Sorted and Unsorted Eigen Values\n",
    "eigvals_us,eigvecs_us= eig_unsorted(S)\n",
    "eigvals,eigvecs= eig(S)\n",
    "print('eigen-value for sorted',eigvals)\n",
    "print('eigen-value for unsorted',eigvals_us)"
   ]
  },
  {
   "cell_type": "code",
   "execution_count": 15,
   "metadata": {},
   "outputs": [
    {
     "data": {
      "image/png": "[encoded data removed]",
      "text/plain": [
       "<Figure size 432x288 with 1 Axes>"
      ]
     },
     "metadata": {
      "needs_background": "light"
     },
     "output_type": "display_data"
    }
   ],
   "source": [
    "#Plotting Eigen values Vs Index\n",
    "import matplotlib.pyplot as plt\n",
    "plt.plot(eigvals)\n",
    "plt.xlabel(\"$index$\")\n",
    "plt.ylabel(\"$EigenValues$\");"
   ]
  },
  {
   "cell_type": "code",
   "execution_count": 16,
   "metadata": {},
   "outputs": [],
   "source": [
    "#Function to compute MSE\n",
    "def mse(predict, actual):\n",
    "    \"\"\"Helper function for computing the mean squared error (MSE)\"\"\"\n",
    "    return np.square(predict - actual).sum(axis=1).mean()"
   ]
  },
  {
   "cell_type": "code",
   "execution_count": 17,
   "metadata": {},
   "outputs": [
    {
     "data": {
      "text/plain": [
       "array([[1.00000000e+00, 4.49771707e+03],\n",
       "       [2.00000000e+00, 6.25661951e+03],\n",
       "       [3.00000000e+00, 7.48189064e+03],\n",
       "       [4.00000000e+00, 8.32737775e+03],\n",
       "       [5.00000000e+00, 9.06468849e+03],\n",
       "       [6.00000000e+00, 9.23400000e+03]])"
      ]
     },
     "execution_count": 17,
     "metadata": {},
     "output_type": "execute_result"
    }
   ],
   "source": [
    "#Iterate over different numbers of principal components, and compute the MSE and variance for each num_component\n",
    "loss = []\n",
    "reconstructions = []\n",
    "sumEigenL = []\n",
    "num = 7\n",
    "for num_component in range(1, num):\n",
    "    reconst ,sumEigen= PCA(Xbar, num_component)\n",
    "    error = mse(reconst, Xbar)\n",
    "    #print(error)\n",
    "    reconstructions.append(reconst)\n",
    "    sumEigenL.append((num_component,sumEigen))\n",
    "    loss.append((num_component, error))\n",
    "\n",
    "reconstructions = np.asarray(reconstructions)\n",
    "#Unnormalizing the reconstructed X\n",
    "reconstructions = reconstructions * std + mu\n",
    "loss = np.asarray(loss)\n",
    "sumEigenL = np.asarray(sumEigenL)\n",
    "#print(reconstructions[4])\n",
    "#print(X)\n",
    "sumEigenL"
   ]
  },
  {
   "cell_type": "code",
   "execution_count": 18,
   "metadata": {},
   "outputs": [],
   "source": [
    "#for unsorted\n",
    "loss_us = []\n",
    "reconstructions_us = []\n",
    "sumEigenL_us = []\n",
    "num = 6\n",
    "for num_component in range(1, num):\n",
    "    reconst_us ,sumEigen_us= PCA_unsorted(Xbar, num_component)\n",
    "    error_us = mse(reconst_us, Xbar)\n",
    "    #print(error_us)\n",
    "    reconstructions_us.append(reconst_us)\n",
    "    sumEigenL_us.append((num_component,sumEigen_us))\n",
    "    loss_us.append((num_component, error_us))\n",
    "\n",
    "reconstructions_us = np.asarray(reconstructions_us)\n",
    "#Unnormalizing the reconstructed X\n",
    "reconstructions_us = reconstructions_us * std + mu\n",
    "loss_us = np.asarray(loss_us)\n",
    "sumEigenL_us = np.asarray(sumEigenL_us)"
   ]
  },
  {
   "cell_type": "code",
   "execution_count": 19,
   "metadata": {},
   "outputs": [
    {
     "data": {
      "image/png": "[encoded data removed]",
      "text/plain": [
       "<Figure size 432x288 with 1 Axes>"
      ]
     },
     "metadata": {
      "needs_background": "light"
     },
     "output_type": "display_data"
    }
   ],
   "source": [
    "#Plotting the variance Vs numComponents\n",
    "plt.plot(sumEigenL[:,0],sumEigenL[:,1])\n",
    "plt.xlabel(\"$numComponents$\")\n",
    "plt.ylabel(\"$Variance$\");"
   ]
  },
  {
   "cell_type": "code",
   "execution_count": 20,
   "metadata": {
    "scrolled": true
   },
   "outputs": [
    {
     "data": {
      "text/plain": [
       "<matplotlib.legend.Legend at 0x15b436ae6d8>"
      ]
     },
     "execution_count": 20,
     "metadata": {},
     "output_type": "execute_result"
    },
    {
     "data": {
      "image/png": "[encoded data removed]",
      "text/plain": [
       "<Figure size 432x288 with 1 Axes>"
      ]
     },
     "metadata": {
      "needs_background": "light"
     },
     "output_type": "display_data"
    }
   ],
   "source": [
    "#Plotting MSE Vs numComponents\n",
    "fig, ax = plt.subplots()\n",
    "ax.plot(loss[:,0], loss[:,1],'+',markersize=15,label = 'MSE for sorted Eigen Values');\n",
    "#ax.plot(loss_us[:,0], loss_us[:,1],'o',label = 'MSE for unsorted Eigen Values');\n",
    "ax.set(xlabel='num_components', ylabel='MSE', title='MSE vs number of principal components');\n",
    "plt.xlabel(\"No.of features\")\n",
    "plt.legend()"
   ]
  },
  {
   "cell_type": "code",
   "execution_count": 21,
   "metadata": {},
   "outputs": [
    {
     "name": "stdout",
     "output_type": "stream",
     "text": [
      "Root Mean Squared Error for 1 features is 110.183780418783\n",
      "Root Mean Squared Error for 2 features is 103.72202669756929\n",
      "Root Mean Squared Error for 3 features is 74.58234492515562\n",
      "Root Mean Squared Error for 4 features is 70.56303499679846\n",
      "Root Mean Squared Error for 5 features is 52.87089179772085\n",
      "Root Mean Squared Error for 6 features is 18.026798511239683\n",
      "[110.183780418783, 103.72202669756929, 74.58234492515562, 70.56303499679846, 52.87089179772085, 18.026798511239683]\n"
     ]
    }
   ],
   "source": [
    "from sklearn import linear_model\n",
    "from sklearn import metrics\n",
    "from sklearn.linear_model import LinearRegression\n",
    "rmse=[]\n",
    "for i in range(6):\n",
    "    x=reconstructions[i]\n",
    "    index = int(0.8 * len(x[i]))\n",
    "    x_train, x_test = x[:index], x[index:]\n",
    "    y_train, y_test = y[:index], y[index:]\n",
    "    regressor = LinearRegression()  \n",
    "    regressor.fit(x_train, y_train) #training the algorithm\n",
    "    y_pred = regressor.predict(x_test)\n",
    "    \n",
    "    rmse.append(np.sqrt(metrics.mean_squared_error(y_test, y_pred)))\n",
    "    print('Root Mean Squared Error for',i+1,'features is',rmse[i])\n",
    "    \n",
    "print(rmse)\n",
    "    "
   ]
  },
  {
   "cell_type": "code",
   "execution_count": 22,
   "metadata": {},
   "outputs": [
    {
     "data": {
      "image/png": "[encoded data removed]",
      "text/plain": [
       "<Figure size 432x288 with 1 Axes>"
      ]
     },
     "metadata": {
      "needs_background": "light"
     },
     "output_type": "display_data"
    }
   ],
   "source": [
    "fig = plt.figure()\n",
    "ax = fig.add_axes([0,0,1,1])\n",
    "plt.xticks(rotation=90)\n",
    "langs = [1,2,3,4,5,6]\n",
    "#RMSE = [rmse_dt,rmse_rf,rmse_gb]\n",
    "plt.xlabel(\"No.of features\")\n",
    "plt.ylabel(\"RMSE after reconstruction from PCA\");\n",
    "ax.bar(langs,rmse)\n",
    "plt.show()"
   ]
  },
  {
   "cell_type": "code",
   "execution_count": null,
   "metadata": {},
   "outputs": [],
   "source": []
  }
 ],
 "metadata": {
  "kernelspec": {
   "display_name": "Python 3",
   "language": "python",
   "name": "python3"
  },
  "language_info": {
   "codemirror_mode": {
    "name": "ipython",
    "version": 3
   },
   "file_extension": ".py",
   "mimetype": "text/x-python",
   "name": "python",
   "nbconvert_exporter": "python",
   "pygments_lexer": "ipython3",
   "version": "3.7.3"
  }
 },
 "nbformat": 4,
 "nbformat_minor": 2
}
